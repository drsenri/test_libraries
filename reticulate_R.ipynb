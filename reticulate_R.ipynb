{
 "cells": [
  {
   "cell_type": "markdown",
   "metadata": {},
   "source": [
    "Testing `{reticulate}` package"
   ]
  },
  {
   "cell_type": "markdown",
   "metadata": {},
   "source": [
    "Procedure\n",
    "1. build ML model in scikit-learn (see `reticulate_py.ipynb`)\n",
    "2. load model with `{reticulate}`\n",
    "3. load data in R\n",
    "4. predict probability of loaded data in step3 with loaded model in step 2\n",
    "5. confirm AUC = 0.9990079365"
   ]
  },
  {
   "cell_type": "markdown",
   "metadata": {},
   "source": [
    "# initialize objects"
   ]
  },
  {
   "cell_type": "markdown",
   "metadata": {},
   "source": [
    "## import libraries"
   ]
  },
  {
   "cell_type": "code",
   "execution_count": 1,
   "metadata": {},
   "outputs": [
    {
     "name": "stderr",
     "output_type": "stream",
     "text": [
      "Warning message:\n",
      "\"package 'reticulate' was built under R version 3.4.4\""
     ]
    }
   ],
   "source": [
    "library(reticulate)\n",
    "use_condaenv(\"myenv\")\n",
    "joblib <- import(\"sklearn.externals.joblib\")"
   ]
  },
  {
   "cell_type": "markdown",
   "metadata": {},
   "source": [
    "## load ML model"
   ]
  },
  {
   "cell_type": "code",
   "execution_count": 2,
   "metadata": {},
   "outputs": [],
   "source": [
    "model <- joblib$load(\"./model.pkl\")"
   ]
  },
  {
   "cell_type": "markdown",
   "metadata": {},
   "source": [
    "# predict new data"
   ]
  },
  {
   "cell_type": "markdown",
   "metadata": {},
   "source": [
    "## load data"
   ]
  },
  {
   "cell_type": "code",
   "execution_count": 3,
   "metadata": {},
   "outputs": [],
   "source": [
    "test <-  read.csv(\"test.csv\")\n",
    "x <- test[, !colnames(test) == \"target\"]\n",
    "y <- test$target"
   ]
  },
  {
   "cell_type": "markdown",
   "metadata": {},
   "source": [
    "## predict"
   ]
  },
  {
   "cell_type": "code",
   "execution_count": 4,
   "metadata": {},
   "outputs": [],
   "source": [
    "pred <- model$predict_proba(x)[,2]"
   ]
  },
  {
   "cell_type": "code",
   "execution_count": 5,
   "metadata": {},
   "outputs": [
    {
     "data": {
      "text/html": [
       "<ol class=list-inline>\n",
       "\t<li>0.992311683331532</li>\n",
       "\t<li>0.987111818579976</li>\n",
       "\t<li>0.98906630141577</li>\n",
       "\t<li>0.972998240832939</li>\n",
       "\t<li>0.12979098499049</li>\n",
       "\t<li>0.00289302605932853</li>\n",
       "</ol>\n"
      ],
      "text/latex": [
       "\\begin{enumerate*}\n",
       "\\item 0.992311683331532\n",
       "\\item 0.987111818579976\n",
       "\\item 0.98906630141577\n",
       "\\item 0.972998240832939\n",
       "\\item 0.12979098499049\n",
       "\\item 0.00289302605932853\n",
       "\\end{enumerate*}\n"
      ],
      "text/markdown": [
       "1. 0.992311683331532\n",
       "2. 0.987111818579976\n",
       "3. 0.98906630141577\n",
       "4. 0.972998240832939\n",
       "5. 0.12979098499049\n",
       "6. 0.00289302605932853\n",
       "\n",
       "\n"
      ],
      "text/plain": [
       "[1] 0.992311683 0.987111819 0.989066301 0.972998241 0.129790985 0.002893026"
      ]
     },
     "metadata": {},
     "output_type": "display_data"
    }
   ],
   "source": [
    "head(pred)"
   ]
  },
  {
   "cell_type": "markdown",
   "metadata": {},
   "source": [
    "# Confirm result\n",
    "\n",
    "AUC should be 0.9990079365"
   ]
  },
  {
   "cell_type": "code",
   "execution_count": 6,
   "metadata": {},
   "outputs": [
    {
     "name": "stderr",
     "output_type": "stream",
     "text": [
      "Warning message:\n",
      "\"package 'pROC' was built under R version 3.4.4\"Type 'citation(\"pROC\")' for a citation.\n",
      "\n",
      "Attaching package: 'pROC'\n",
      "\n",
      "The following objects are masked from 'package:stats':\n",
      "\n",
      "    cov, smooth, var\n",
      "\n"
     ]
    },
    {
     "data": {
      "text/html": [
       "0.999007936507937"
      ],
      "text/latex": [
       "0.999007936507937"
      ],
      "text/markdown": [
       "0.999007936507937"
      ],
      "text/plain": [
       "Area under the curve: 0.999"
      ]
     },
     "metadata": {},
     "output_type": "display_data"
    }
   ],
   "source": [
    "library(pROC)\n",
    "auc(roc(y, pred))"
   ]
  }
 ],
 "metadata": {
  "kernelspec": {
   "display_name": "R",
   "language": "R",
   "name": "ir"
  },
  "language_info": {
   "codemirror_mode": "r",
   "file_extension": ".r",
   "mimetype": "text/x-r-source",
   "name": "R",
   "pygments_lexer": "r",
   "version": "3.4.0"
  },
  "toc": {
   "base_numbering": 1,
   "nav_menu": {},
   "number_sections": true,
   "sideBar": true,
   "skip_h1_title": false,
   "title_cell": "Table of Contents",
   "title_sidebar": "Contents",
   "toc_cell": false,
   "toc_position": {},
   "toc_section_display": true,
   "toc_window_display": false
  }
 },
 "nbformat": 4,
 "nbformat_minor": 2
}
